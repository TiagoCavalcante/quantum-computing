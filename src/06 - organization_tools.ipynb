{
 "cells": [
  {
   "cell_type": "code",
   "execution_count": 1,
   "metadata": {},
   "outputs": [],
   "source": [
    "from qiskit import Aer, ClassicalRegister, QuantumRegister, QuantumCircuit"
   ]
  },
  {
   "cell_type": "code",
   "execution_count": 2,
   "metadata": {},
   "outputs": [],
   "source": [
    "backend = Aer.get_backend('aer_simulator')"
   ]
  },
  {
   "cell_type": "code",
   "execution_count": 3,
   "metadata": {},
   "outputs": [
    {
     "data": {
      "text/plain": [
       "{'11': 496, '00': 528}"
      ]
     },
     "execution_count": 3,
     "metadata": {},
     "output_type": "execute_result"
    }
   ],
   "source": [
    "qubit = QuantumRegister(2)\n",
    "A = qubit[0]\n",
    "B = qubit[1]\n",
    "\n",
    "bit = ClassicalRegister(2)\n",
    "a = bit[0]\n",
    "b = bit[1]\n",
    "\n",
    "qc = QuantumCircuit(qubit, bit)\n",
    "# Put B in superposition\n",
    "qc.h(B)     # B = H(B)\n",
    "# Entangle the qubits A and B\n",
    "qc.cx(B, A) #  = XOR(A, B)\n",
    "# Remove B from superposition\n",
    "qc.h(A)     # A = H(A)\n",
    "qc.h(B)     # B = H(B)\n",
    "\n",
    "qc.measure(A, a)\n",
    "qc.measure(B, b)\n",
    "\n",
    "backend.run(qc).result().get_counts()"
   ]
  }
 ],
 "metadata": {
  "kernelspec": {
   "display_name": "Python 3.9.9 64-bit",
   "language": "python",
   "name": "python3"
  },
  "language_info": {
   "codemirror_mode": {
    "name": "ipython",
    "version": 3
   },
   "file_extension": ".py",
   "mimetype": "text/x-python",
   "name": "python",
   "nbconvert_exporter": "python",
   "pygments_lexer": "ipython3",
   "version": "3.9.9"
  },
  "orig_nbformat": 4,
  "vscode": {
   "interpreter": {
    "hash": "e7370f93d1d0cde622a1f8e1c04877d8463912d04d973331ad4851f04de6915a"
   }
  }
 },
 "nbformat": 4,
 "nbformat_minor": 2
}
