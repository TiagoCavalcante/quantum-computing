{
 "cells": [
  {
   "cell_type": "code",
   "execution_count": 50,
   "metadata": {},
   "outputs": [],
   "source": [
    "from qiskit import QuantumCircuit"
   ]
  },
  {
   "cell_type": "code",
   "execution_count": 51,
   "metadata": {},
   "outputs": [
    {
     "data": {
      "text/html": [
       "<pre style=\"word-wrap: normal;white-space: pre;background: #fff0;line-height: 1.1;font-family: &quot;Courier New&quot;,Courier,monospace\">     \n",
       "q_0: \n",
       "     \n",
       "q_1: \n",
       "     \n",
       "q_2: \n",
       "     \n",
       "c: 3/\n",
       "     </pre>"
      ],
      "text/plain": [
       "     \n",
       "q_0: \n",
       "     \n",
       "q_1: \n",
       "     \n",
       "q_2: \n",
       "     \n",
       "c: 3/\n",
       "     "
      ]
     },
     "execution_count": 51,
     "metadata": {},
     "output_type": "execute_result"
    }
   ],
   "source": [
    "# Create quantum circuit with 3 qubits and 3 classical bits\n",
    "# (we'll explain why we need the classical bits later)\n",
    "qc = QuantumCircuit(3, 3)\n",
    "qc.draw()  # returns a drawing of the circuit"
   ]
  },
  {
   "cell_type": "code",
   "execution_count": 52,
   "metadata": {},
   "outputs": [
    {
     "data": {
      "text/html": [
       "<pre style=\"word-wrap: normal;white-space: pre;background: #fff0;line-height: 1.1;font-family: &quot;Courier New&quot;,Courier,monospace\">     ┌─┐      \n",
       "q_0: ┤M├──────\n",
       "     └╥┘┌─┐   \n",
       "q_1: ─╫─┤M├───\n",
       "      ║ └╥┘┌─┐\n",
       "q_2: ─╫──╫─┤M├\n",
       "      ║  ║ └╥┘\n",
       "c: 3/═╩══╩══╩═\n",
       "      0  1  2 </pre>"
      ],
      "text/plain": [
       "     ┌─┐      \n",
       "q_0: ┤M├──────\n",
       "     └╥┘┌─┐   \n",
       "q_1: ─╫─┤M├───\n",
       "      ║ └╥┘┌─┐\n",
       "q_2: ─╫──╫─┤M├\n",
       "      ║  ║ └╥┘\n",
       "c: 3/═╩══╩══╩═\n",
       "      0  1  2 "
      ]
     },
     "execution_count": 52,
     "metadata": {},
     "output_type": "execute_result"
    }
   ],
   "source": [
    "qc = QuantumCircuit(3, 3)\n",
    "# measure qubits 0, 1 & 2 to classical bits 0, 1 & 2 respectively\n",
    "qc.measure([0,1,2], [0,1,2])\n",
    "qc.draw()"
   ]
  },
  {
   "cell_type": "code",
   "execution_count": 53,
   "metadata": {},
   "outputs": [],
   "source": [
    "from qiskit.providers.aer import AerSimulator\n",
    "sim = AerSimulator()   # make new simulator object"
   ]
  },
  {
   "cell_type": "code",
   "execution_count": 54,
   "metadata": {},
   "outputs": [
    {
     "data": {
      "text/plain": [
       "{'000': 1024}"
      ]
     },
     "execution_count": 54,
     "metadata": {},
     "output_type": "execute_result"
    }
   ],
   "source": [
    "job = sim.run(qc)      # run the experiment\n",
    "result = job.result()  # get the results\n",
    "result.get_counts()    # interpret the results as a \"counts\" dictionary"
   ]
  },
  {
   "cell_type": "code",
   "execution_count": 55,
   "metadata": {},
   "outputs": [
    {
     "data": {
      "text/html": [
       "<pre style=\"word-wrap: normal;white-space: pre;background: #fff0;line-height: 1.1;font-family: &quot;Courier New&quot;,Courier,monospace\">     ┌───┐┌─┐   \n",
       "q_0: ┤ X ├┤M├───\n",
       "     ├───┤└╥┘┌─┐\n",
       "q_1: ┤ X ├─╫─┤M├\n",
       "     └┬─┬┘ ║ └╥┘\n",
       "q_2: ─┤M├──╫──╫─\n",
       "      └╥┘  ║  ║ \n",
       "c: 3/══╩═══╩══╩═\n",
       "       2   0  1 </pre>"
      ],
      "text/plain": [
       "     ┌───┐┌─┐   \n",
       "q_0: ┤ X ├┤M├───\n",
       "     ├───┤└╥┘┌─┐\n",
       "q_1: ┤ X ├─╫─┤M├\n",
       "     └┬─┬┘ ║ └╥┘\n",
       "q_2: ─┤M├──╫──╫─\n",
       "      └╥┘  ║  ║ \n",
       "c: 3/══╩═══╩══╩═\n",
       "       2   0  1 "
      ]
     },
     "execution_count": 55,
     "metadata": {},
     "output_type": "execute_result"
    }
   ],
   "source": [
    "# Create quantum circuit with 3 qubits and 3 classical bits:\n",
    "qc = QuantumCircuit(3, 3)\n",
    "qc.x([0, 1])  # Perform X-gates on qubits 0 & 1\n",
    "qc.measure([0, 1, 2], [0, 1, 2])\n",
    "qc.draw()    # returns a drawing of the circuit"
   ]
  },
  {
   "cell_type": "code",
   "execution_count": 56,
   "metadata": {},
   "outputs": [
    {
     "data": {
      "text/plain": [
       "{'011': 1024}"
      ]
     },
     "execution_count": 56,
     "metadata": {},
     "output_type": "execute_result"
    }
   ],
   "source": [
    "job = sim.run(qc)      # run the experiment\n",
    "result = job.result()  # get the results\n",
    "result.get_counts()    # interpret the results as a \"counts\" dictionary"
   ]
  },
  {
   "cell_type": "code",
   "execution_count": 57,
   "metadata": {},
   "outputs": [
    {
     "data": {
      "text/html": [
       "<pre style=\"word-wrap: normal;white-space: pre;background: #fff0;line-height: 1.1;font-family: &quot;Courier New&quot;,Courier,monospace\">     ┌───┐     ┌─┐   \n",
       "q_0: ┤ X ├──■──┤M├───\n",
       "     └───┘┌─┴─┐└╥┘┌─┐\n",
       "q_1: ─────┤ X ├─╫─┤M├\n",
       "          └───┘ ║ └╥┘\n",
       "c: 2/═══════════╩══╩═\n",
       "                0  1 </pre>"
      ],
      "text/plain": [
       "     ┌───┐     ┌─┐   \n",
       "q_0: ┤ X ├──■──┤M├───\n",
       "     └───┘┌─┴─┐└╥┘┌─┐\n",
       "q_1: ─────┤ X ├─╫─┤M├\n",
       "          └───┘ ║ └╥┘\n",
       "c: 2/═══════════╩══╩═\n",
       "                0  1 "
      ]
     },
     "metadata": {},
     "output_type": "display_data"
    },
    {
     "name": "stdout",
     "output_type": "stream",
     "text": [
      "Result:  {'11': 1024}\n"
     ]
    }
   ],
   "source": [
    "# Create quantum circuit with 2 qubits and 2 classical bits\n",
    "qc = QuantumCircuit(2, 2)\n",
    "qc.x(0)\n",
    "qc.cx(0, 1)            # CNOT controlled by qubit 0 and targeting qubit 1\n",
    "qc.measure([0, 1], [0, 1])\n",
    "display(qc.draw())     # display a drawing of the circuit\n",
    "\n",
    "job = sim.run(qc)      # run the experiment\n",
    "result = job.result()  # get the results\n",
    "\n",
    "# interpret the results as a \"counts\" dictionary\n",
    "print(\"Result: \", result.get_counts())"
   ]
  },
  {
   "cell_type": "code",
   "execution_count": 58,
   "metadata": {},
   "outputs": [
    {
     "data": {
      "text/html": [
       "<pre style=\"word-wrap: normal;white-space: pre;background: #fff0;line-height: 1.1;font-family: &quot;Courier New&quot;,Courier,monospace\">     ┌───┐                     \n",
       "q_0: ┤ X ├──■─────────■────────\n",
       "     ├───┤  │         │        \n",
       "q_1: ┤ X ├──┼────■────■────────\n",
       "     └───┘┌─┴─┐┌─┴─┐  │  ┌─┐   \n",
       "q_2: ─────┤ X ├┤ X ├──┼──┤M├───\n",
       "          └───┘└───┘┌─┴─┐└╥┘┌─┐\n",
       "q_3: ───────────────┤ X ├─╫─┤M├\n",
       "                    └───┘ ║ └╥┘\n",
       "c: 2/═════════════════════╩══╩═\n",
       "                          0  1 </pre>"
      ],
      "text/plain": [
       "     ┌───┐                     \n",
       "q_0: ┤ X ├──■─────────■────────\n",
       "     ├───┤  │         │        \n",
       "q_1: ┤ X ├──┼────■────■────────\n",
       "     └───┘┌─┴─┐┌─┴─┐  │  ┌─┐   \n",
       "q_2: ─────┤ X ├┤ X ├──┼──┤M├───\n",
       "          └───┘└───┘┌─┴─┐└╥┘┌─┐\n",
       "q_3: ───────────────┤ X ├─╫─┤M├\n",
       "                    └───┘ ║ └╥┘\n",
       "c: 2/═════════════════════╩══╩═\n",
       "                          0  1 "
      ]
     },
     "metadata": {},
     "output_type": "display_data"
    },
    {
     "data": {
      "text/plain": [
       "{'10': 1024}"
      ]
     },
     "execution_count": 58,
     "metadata": {},
     "output_type": "execute_result"
    }
   ],
   "source": [
    "# Half adder quantum circuit.\n",
    "\n",
    "qc = QuantumCircuit(4, 2)\n",
    "\n",
    "# q0 and q1 are the input.\n",
    "qc.x(0)          # q0 = NOT(q0)\n",
    "qc.x(1)          # q1 = NOT(q1)\n",
    "\n",
    "# q2 and q3 are initialized to 0.\n",
    "qc.cx(0, 2)      # q2 = XOR(q0, q2)\n",
    "qc.cx(1, 2)      # q2 = XOR(q1, q2)\n",
    "qc.ccx(0, 1, 3)  # q3 = AND(q0, q1)\n",
    "\n",
    "qc.measure(2, 0) # b0 = q2\n",
    "qc.measure(3, 1) # b1 = q3\n",
    "display(qc.draw())\n",
    "\n",
    "job = sim.run(qc)     # run the experiment\n",
    "result = job.result() # get the results\n",
    "result.get_counts()"
   ]
  },
  {
   "cell_type": "code",
   "execution_count": 59,
   "metadata": {},
   "outputs": [
    {
     "data": {
      "text/plain": [
       "'Statevector([0.        +0.j, 0.70710678+0.j, 0.70710678+0.j,\\n             0.        +0.j],\\n            dims=(2, 2))'"
      ]
     },
     "execution_count": 59,
     "metadata": {},
     "output_type": "execute_result"
    }
   ],
   "source": [
    "from qiskit.quantum_info import Statevector\n",
    "\n",
    "qc = QuantumCircuit(2)\n",
    "\n",
    "qc.x(0)      # q0 = NOT(q0)\n",
    "qc.h(1)      # q1 = H(q1)\n",
    "# Entangle the qubits 0 and 1.\n",
    "qc.cx(1, 0)  # q0 = XOR(q0, q1)\n",
    "\n",
    "# This calculates what the state vector of our qubits would be\n",
    "# after passing through the circuit 'qc'\n",
    "ket = Statevector(qc)\n",
    "\n",
    "# The code below writes down the state vector.\n",
    "# Since it's the last line in the cell, the cell will display it as output\n",
    "ket.draw()"
   ]
  },
  {
   "cell_type": "code",
   "execution_count": 60,
   "metadata": {},
   "outputs": [
    {
     "data": {
      "text/html": [
       "<pre style=\"word-wrap: normal;white-space: pre;background: #fff0;line-height: 1.1;font-family: &quot;Courier New&quot;,Courier,monospace\">     ┌───┐\n",
       "q_0: ┤ H ├\n",
       "     ├───┤\n",
       "q_1: ┤ H ├\n",
       "     └───┘</pre>"
      ],
      "text/plain": [
       "     ┌───┐\n",
       "q_0: ┤ H ├\n",
       "     ├───┤\n",
       "q_1: ┤ H ├\n",
       "     └───┘"
      ]
     },
     "metadata": {},
     "output_type": "display_data"
    },
    {
     "data": {
      "text/plain": [
       "'Statevector([0.5+0.j, 0.5+0.j, 0.5+0.j, 0.5+0.j],\\n            dims=(2, 2))'"
      ]
     },
     "execution_count": 60,
     "metadata": {},
     "output_type": "execute_result"
    }
   ],
   "source": [
    "qc = QuantumCircuit(2)\n",
    "\n",
    "qc.h(0)      # q0 = H(q0)\n",
    "qc.h(1)      # q1 = H(q1)\n",
    "\n",
    "display(qc.draw())\n",
    "\n",
    "# This calculates what the state vector of our qubits would be\n",
    "# after passing through the circuit 'qc'\n",
    "ket = Statevector(qc)\n",
    "\n",
    "# The code below writes down the state vector.\n",
    "# Since it's the last line in the cell, the cell will display it as output\n",
    "ket.draw()"
   ]
  },
  {
   "cell_type": "code",
   "execution_count": 61,
   "metadata": {},
   "outputs": [
    {
     "data": {
      "text/html": [
       "<pre style=\"word-wrap: normal;white-space: pre;background: #fff0;line-height: 1.1;font-family: &quot;Courier New&quot;,Courier,monospace\">   ┌───┐\n",
       "q: ┤ H ├\n",
       "   └───┘</pre>"
      ],
      "text/plain": [
       "   ┌───┐\n",
       "q: ┤ H ├\n",
       "   └───┘"
      ]
     },
     "metadata": {},
     "output_type": "display_data"
    },
    {
     "data": {
      "text/plain": [
       "'Statevector([0.70710678+0.j, 0.70710678+0.j],\\n            dims=(2,))'"
      ]
     },
     "metadata": {},
     "output_type": "display_data"
    }
   ],
   "source": [
    "qc = QuantumCircuit(1)\n",
    "\n",
    "qc.h(0)      # q0 = H(q0)\n",
    "\n",
    "display(qc.draw())\n",
    "\n",
    "# This calculates what the state vector of our qubits would be\n",
    "# after passing through the circuit 'qc'\n",
    "ket = Statevector(qc)\n",
    "\n",
    "# The code below writes down the state vector.\n",
    "# Since it's the last line in the cell, the cell will display it as output\n",
    "display(ket.draw())"
   ]
  },
  {
   "cell_type": "code",
   "execution_count": 62,
   "metadata": {},
   "outputs": [
    {
     "data": {
      "image/svg+xml": "<?xml version=\"1.0\" encoding=\"utf-8\" standalone=\"no\"?>\n<!DOCTYPE svg PUBLIC \"-//W3C//DTD SVG 1.1//EN\"\n  \"http://www.w3.org/Graphics/SVG/1.1/DTD/svg11.dtd\">\n<svg xmlns:xlink=\"http://www.w3.org/1999/xlink\" width=\"352.377268pt\" height=\"168.933398pt\" viewBox=\"0 0 352.377268 168.933398\" xmlns=\"http://www.w3.org/2000/svg\" version=\"1.1\">\n <metadata>\n  <rdf:RDF xmlns:dc=\"http://purl.org/dc/elements/1.1/\" xmlns:cc=\"http://creativecommons.org/ns#\" xmlns:rdf=\"http://www.w3.org/1999/02/22-rdf-syntax-ns#\">\n   <cc:Work>\n    <dc:type rdf:resource=\"http://purl.org/dc/dcmitype/StillImage\"/>\n    <dc:date>2022-08-08T23:30:58.391250</dc:date>\n    <dc:format>image/svg+xml</dc:format>\n    <dc:creator>\n     <cc:Agent>\n      <dc:title>Matplotlib v3.5.2, https://matplotlib.org/</dc:title>\n     </cc:Agent>\n    </dc:creator>\n   </cc:Work>\n  </rdf:RDF>\n </metadata>\n <defs>\n  <style type=\"text/css\">*{stroke-linejoin: round; stroke-linecap: butt}</style>\n </defs>\n <g id=\"figure_1\">\n  <g id=\"patch_1\">\n   <path d=\"M -0 168.933398 \nL 352.377268 168.933398 \nL 352.377268 0 \nL -0 0 \nz\n\" style=\"fill: #ffffff\"/>\n  </g>\n  <g id=\"axes_1\">\n   <g id=\"patch_2\">\n    <path d=\"M 263.819979 124.122696 \nL 275.637239 124.122696 \nL 269.728609 132.644758 \nz\n\" clip-path=\"url(#p45068e6ca8)\" style=\"fill: #778899\"/>\n   </g>\n   <g id=\"patch_3\">\n    <path d=\"M 309.270978 124.122696 \nL 321.088238 124.122696 \nL 315.179608 132.644758 \nz\n\" clip-path=\"url(#p45068e6ca8)\" style=\"fill: #778899\"/>\n   </g>\n   <g id=\"line2d_1\">\n    <path d=\"M 63.381071 43.5608 \nL 340.632168 43.5608 \n\" clip-path=\"url(#p45068e6ca8)\" style=\"fill: none; stroke: #000000; stroke-width: 2; stroke-linecap: square\"/>\n   </g>\n   <g id=\"line2d_2\">\n    <path d=\"M 63.381071 89.011799 \nL 340.632168 89.011799 \n\" clip-path=\"url(#p45068e6ca8)\" style=\"fill: none; stroke: #000000; stroke-width: 2; stroke-linecap: square\"/>\n   </g>\n   <g id=\"line2d_3\">\n    <path d=\"M 63.381071 132.985641 \nL 340.632168 132.985641 \n\" clip-path=\"url(#p45068e6ca8)\" style=\"fill: none; stroke: #778899; stroke-width: 2; stroke-linecap: square\"/>\n   </g>\n   <g id=\"line2d_4\">\n    <path d=\"M 63.381071 135.939956 \nL 340.632168 135.939956 \n\" clip-path=\"url(#p45068e6ca8)\" style=\"fill: none; stroke: #778899; stroke-width: 2; stroke-linecap: square\"/>\n   </g>\n   <g id=\"line2d_5\">\n    <path d=\"M 72.471271 139.007898 \nL 77.016371 129.917698 \n\" clip-path=\"url(#p45068e6ca8)\" style=\"fill: none; stroke: #778899; stroke-width: 1.5; stroke-linecap: square\"/>\n   </g>\n   <g id=\"line2d_6\">\n    <path d=\"M 133.37561 89.011799 \nL 133.37561 43.5608 \n\" clip-path=\"url(#p45068e6ca8)\" style=\"fill: none; stroke: #6fa4ff; stroke-width: 2; stroke-linecap: square\"/>\n   </g>\n   <g id=\"line2d_7\">\n    <path d=\"M 224.277609 89.011799 \nL 224.277609 43.5608 \n\" clip-path=\"url(#p45068e6ca8)\" style=\"fill: none; stroke: #6fa4ff; stroke-width: 2; stroke-linecap: square\"/>\n   </g>\n   <g id=\"line2d_8\">\n    <path d=\"M 271.205766 43.5608 \nL 271.205766 124.122696 \n\" clip-path=\"url(#p45068e6ca8)\" style=\"fill: none; stroke: #778899; stroke-width: 2; stroke-linecap: square\"/>\n   </g>\n   <g id=\"line2d_9\">\n    <path d=\"M 268.251451 43.5608 \nL 268.251451 124.122696 \n\" clip-path=\"url(#p45068e6ca8)\" style=\"fill: none; stroke: #778899; stroke-width: 2; stroke-linecap: square\"/>\n   </g>\n   <g id=\"line2d_10\">\n    <path d=\"M 316.656765 89.011799 \nL 316.656765 124.122696 \n\" clip-path=\"url(#p45068e6ca8)\" style=\"fill: none; stroke: #778899; stroke-width: 2; stroke-linecap: square\"/>\n   </g>\n   <g id=\"line2d_11\">\n    <path d=\"M 313.702451 89.011799 \nL 313.702451 124.122696 \n\" clip-path=\"url(#p45068e6ca8)\" style=\"fill: none; stroke: #778899; stroke-width: 2; stroke-linecap: square\"/>\n   </g>\n   <g id=\"patch_4\">\n    <path d=\"M 73.153036 58.332374 \nL 102.696186 58.332374 \nL 102.696186 28.789225 \nL 73.153036 28.789225 \nz\n\" clip-path=\"url(#p45068e6ca8)\" style=\"fill: #6fa4ff; stroke: #6fa4ff; stroke-width: 1.5; stroke-linejoin: miter\"/>\n   </g>\n   <g id=\"patch_5\">\n    <path d=\"M 73.153036 103.783374 \nL 102.696186 103.783374 \nL 102.696186 74.240224 \nL 73.153036 74.240224 \nz\n\" clip-path=\"url(#p45068e6ca8)\" style=\"fill: #6fa4ff; stroke: #6fa4ff; stroke-width: 1.5; stroke-linejoin: miter\"/>\n   </g>\n   <g id=\"patch_6\">\n    <path d=\"M 133.37561 93.443271 \nC 134.550851 93.443271 135.678114 92.976343 136.509135 92.145323 \nC 137.340155 91.314303 137.807083 90.187039 137.807083 89.011799 \nC 137.807083 87.836559 137.340155 86.709295 136.509135 85.878275 \nC 135.678114 85.047254 134.550851 84.580326 133.37561 84.580326 \nC 132.20037 84.580326 131.073107 85.047254 130.242086 85.878275 \nC 129.411066 86.709295 128.944138 87.836559 128.944138 89.011799 \nC 128.944138 90.187039 129.411066 91.314303 130.242086 92.145323 \nC 131.073107 92.976343 132.20037 93.443271 133.37561 93.443271 \nz\n\" clip-path=\"url(#p45068e6ca8)\" style=\"fill: #6fa4ff; stroke: #6fa4ff; stroke-width: 1.5; stroke-linejoin: miter\"/>\n   </g>\n   <g id=\"patch_7\">\n    <path d=\"M 133.37561 53.900902 \nC 136.117838 53.900902 138.748119 52.811403 140.687167 50.872356 \nC 142.626214 48.933309 143.715713 46.303027 143.715713 43.5608 \nC 143.715713 40.818572 142.626214 38.18829 140.687167 36.249243 \nC 138.748119 34.310196 136.117838 33.220697 133.37561 33.220697 \nC 130.633383 33.220697 128.003101 34.310196 126.064054 36.249243 \nC 124.125006 38.18829 123.035508 40.818572 123.035508 43.5608 \nC 123.035508 46.303027 124.125006 48.933309 126.064054 50.872356 \nC 128.003101 52.811403 130.633383 53.900902 133.37561 53.900902 \nz\n\" clip-path=\"url(#p45068e6ca8)\" style=\"fill: #6fa4ff; stroke: #6fa4ff; stroke-width: 2; stroke-linejoin: miter\"/>\n   </g>\n   <g id=\"patch_8\">\n    <path d=\"M 164.055035 58.332374 \nL 193.598185 58.332374 \nL 193.598185 28.789225 \nL 164.055035 28.789225 \nz\n\" clip-path=\"url(#p45068e6ca8)\" style=\"fill: #05bab6; stroke: #05bab6; stroke-width: 1.5; stroke-linejoin: miter\"/>\n   </g>\n   <g id=\"patch_9\">\n    <path d=\"M 224.277609 93.443271 \nC 225.452849 93.443271 226.580113 92.976343 227.411133 92.145323 \nC 228.242154 91.314303 228.709082 90.187039 228.709082 89.011799 \nC 228.709082 87.836559 228.242154 86.709295 227.411133 85.878275 \nC 226.580113 85.047254 225.452849 84.580326 224.277609 84.580326 \nC 223.102369 84.580326 221.975105 85.047254 221.144085 85.878275 \nC 220.313065 86.709295 219.846137 87.836559 219.846137 89.011799 \nC 219.846137 90.187039 220.313065 91.314303 221.144085 92.145323 \nC 221.975105 92.976343 223.102369 93.443271 224.277609 93.443271 \nz\n\" clip-path=\"url(#p45068e6ca8)\" style=\"fill: #6fa4ff; stroke: #6fa4ff; stroke-width: 1.5; stroke-linejoin: miter\"/>\n   </g>\n   <g id=\"patch_10\">\n    <path d=\"M 224.277609 53.900902 \nC 227.019836 53.900902 229.650118 52.811403 231.589166 50.872356 \nC 233.528213 48.933309 234.617712 46.303027 234.617712 43.5608 \nC 234.617712 40.818572 233.528213 38.18829 231.589166 36.249243 \nC 229.650118 34.310196 227.019836 33.220697 224.277609 33.220697 \nC 221.535382 33.220697 218.9051 34.310196 216.966053 36.249243 \nC 215.027005 38.18829 213.937507 40.818572 213.937507 43.5608 \nC 213.937507 46.303027 215.027005 48.933309 216.966053 50.872356 \nC 218.9051 52.811403 221.535382 53.900902 224.277609 53.900902 \nz\n\" clip-path=\"url(#p45068e6ca8)\" style=\"fill: #6fa4ff; stroke: #6fa4ff; stroke-width: 2; stroke-linejoin: miter\"/>\n   </g>\n   <g id=\"patch_11\">\n    <path d=\"M 254.957034 58.332374 \nL 284.500183 58.332374 \nL 284.500183 28.789225 \nL 254.957034 28.789225 \nz\n\" clip-path=\"url(#p45068e6ca8)\" style=\"stroke: #000000; stroke-width: 1.5; stroke-linejoin: miter\"/>\n   </g>\n   <g id=\"patch_12\">\n    <path d=\"M 280.068711 47.992272 \nC 280.068711 45.250958 278.978567 42.619117 277.040165 40.680715 \nC 275.101763 38.742314 272.469922 37.65217 269.728609 37.65217 \nC 266.987295 37.65217 264.355454 38.742314 262.417052 40.680715 \nC 260.47865 42.619117 259.388506 45.250958 259.388506 47.992272 \n\" clip-path=\"url(#p45068e6ca8)\" style=\"fill: none; stroke: #ffffff; stroke-width: 2; stroke-linejoin: miter\"/>\n   </g>\n   <g id=\"line2d_12\">\n    <path d=\"M 269.728609 47.992272 \nL 280.068711 37.65217 \n\" clip-path=\"url(#p45068e6ca8)\" style=\"fill: none; stroke: #ffffff; stroke-width: 2; stroke-linecap: square\"/>\n   </g>\n   <g id=\"patch_13\">\n    <path d=\"M 300.408033 103.783374 \nL 329.951183 103.783374 \nL 329.951183 74.240224 \nL 300.408033 74.240224 \nz\n\" clip-path=\"url(#p45068e6ca8)\" style=\"stroke: #000000; stroke-width: 1.5; stroke-linejoin: miter\"/>\n   </g>\n   <g id=\"patch_14\">\n    <path d=\"M 325.51971 93.443271 \nC 325.51971 90.701957 324.429566 88.070117 322.491164 86.131715 \nC 320.552763 84.193313 317.920922 83.103169 315.179608 83.103169 \nC 312.438294 83.103169 309.806453 84.193313 307.868051 86.131715 \nC 305.92965 88.070117 304.839506 90.701957 304.839506 93.443271 \n\" clip-path=\"url(#p45068e6ca8)\" style=\"fill: none; stroke: #ffffff; stroke-width: 2; stroke-linejoin: miter\"/>\n   </g>\n   <g id=\"line2d_13\">\n    <path d=\"M 315.179608 93.443271 \nL 325.51971 83.103169 \n\" clip-path=\"url(#p45068e6ca8)\" style=\"fill: none; stroke: #ffffff; stroke-width: 2; stroke-linecap: square\"/>\n   </g>\n   <g id=\"text_1\">\n    <g clip-path=\"url(#p45068e6ca8)\">\n     <!-- ${q}_{0}$ -->\n     <g transform=\"translate(36.253371 48.011776)scale(0.1625 -0.1625)\">\n      <defs>\n       <path id=\"DejaVuSans-Oblique-71\" d=\"M 2669 525 \nQ 2438 222 2123 65 \nQ 1809 -91 1428 -91 \nQ 897 -91 595 267 \nQ 294 625 294 1253 \nQ 294 1759 480 2231 \nQ 666 2703 1013 3078 \nQ 1238 3322 1530 3453 \nQ 1822 3584 2144 3584 \nQ 2531 3584 2781 3431 \nQ 3031 3278 3144 2969 \nL 3244 3494 \nL 3822 3494 \nL 2888 -1319 \nL 2309 -1319 \nL 2669 525 \nz\nM 891 1338 \nQ 891 875 1084 633 \nQ 1278 391 1644 391 \nQ 2188 391 2572 911 \nQ 2956 1431 2956 2175 \nQ 2956 2625 2757 2864 \nQ 2559 3103 2188 3103 \nQ 1916 3103 1684 2976 \nQ 1453 2850 1281 2606 \nQ 1100 2350 995 2006 \nQ 891 1663 891 1338 \nz\n\" transform=\"scale(0.015625)\"/>\n       <path id=\"DejaVuSans-30\" d=\"M 2034 4250 \nQ 1547 4250 1301 3770 \nQ 1056 3291 1056 2328 \nQ 1056 1369 1301 889 \nQ 1547 409 2034 409 \nQ 2525 409 2770 889 \nQ 3016 1369 3016 2328 \nQ 3016 3291 2770 3770 \nQ 2525 4250 2034 4250 \nz\nM 2034 4750 \nQ 2819 4750 3233 4129 \nQ 3647 3509 3647 2328 \nQ 3647 1150 3233 529 \nQ 2819 -91 2034 -91 \nQ 1250 -91 836 529 \nQ 422 1150 422 2328 \nQ 422 3509 836 4129 \nQ 1250 4750 2034 4750 \nz\n\" transform=\"scale(0.015625)\"/>\n      </defs>\n      <use xlink:href=\"#DejaVuSans-Oblique-71\"/>\n      <use xlink:href=\"#DejaVuSans-30\" transform=\"translate(63.476562 -16.40625)scale(0.7)\"/>\n     </g>\n    </g>\n   </g>\n   <g id=\"text_2\">\n    <g clip-path=\"url(#p45068e6ca8)\">\n     <!-- ${q}_{1}$ -->\n     <g transform=\"translate(36.253371 93.462775)scale(0.1625 -0.1625)\">\n      <defs>\n       <path id=\"DejaVuSans-31\" d=\"M 794 531 \nL 1825 531 \nL 1825 4091 \nL 703 3866 \nL 703 4441 \nL 1819 4666 \nL 2450 4666 \nL 2450 531 \nL 3481 531 \nL 3481 0 \nL 794 0 \nL 794 531 \nz\n\" transform=\"scale(0.015625)\"/>\n      </defs>\n      <use xlink:href=\"#DejaVuSans-Oblique-71\"/>\n      <use xlink:href=\"#DejaVuSans-31\" transform=\"translate(63.476562 -16.40625)scale(0.7)\"/>\n     </g>\n    </g>\n   </g>\n   <g id=\"text_3\">\n    <g clip-path=\"url(#p45068e6ca8)\">\n     <!-- 2 -->\n     <g transform=\"translate(67.926171 127.754823)scale(0.104 -0.104)\">\n      <defs>\n       <path id=\"DejaVuSans-32\" d=\"M 1228 531 \nL 3431 531 \nL 3431 0 \nL 469 0 \nL 469 531 \nQ 828 903 1448 1529 \nQ 2069 2156 2228 2338 \nQ 2531 2678 2651 2914 \nQ 2772 3150 2772 3378 \nQ 2772 3750 2511 3984 \nQ 2250 4219 1831 4219 \nQ 1534 4219 1204 4116 \nQ 875 4013 500 3803 \nL 500 4441 \nQ 881 4594 1212 4672 \nQ 1544 4750 1819 4750 \nQ 2544 4750 2975 4387 \nQ 3406 4025 3406 3419 \nQ 3406 3131 3298 2873 \nQ 3191 2616 2906 2266 \nQ 2828 2175 2409 1742 \nQ 1991 1309 1228 531 \nz\n\" transform=\"scale(0.015625)\"/>\n      </defs>\n      <use xlink:href=\"#DejaVuSans-32\"/>\n     </g>\n    </g>\n   </g>\n   <g id=\"text_4\">\n    <g clip-path=\"url(#p45068e6ca8)\">\n     <!-- c -->\n     <g transform=\"translate(45.355911 138.946783)scale(0.1625 -0.1625)\">\n      <defs>\n       <path id=\"DejaVuSans-63\" d=\"M 3122 3366 \nL 3122 2828 \nQ 2878 2963 2633 3030 \nQ 2388 3097 2138 3097 \nQ 1578 3097 1268 2742 \nQ 959 2388 959 1747 \nQ 959 1106 1268 751 \nQ 1578 397 2138 397 \nQ 2388 397 2633 464 \nQ 2878 531 3122 666 \nL 3122 134 \nQ 2881 22 2623 -34 \nQ 2366 -91 2075 -91 \nQ 1284 -91 818 406 \nQ 353 903 353 1747 \nQ 353 2603 823 3093 \nQ 1294 3584 2113 3584 \nQ 2378 3584 2631 3529 \nQ 2884 3475 3122 3366 \nz\n\" transform=\"scale(0.015625)\"/>\n      </defs>\n      <use xlink:href=\"#DejaVuSans-63\"/>\n     </g>\n    </g>\n   </g>\n   <g id=\"text_5\">\n    <g clip-path=\"url(#p45068e6ca8)\">\n     <!-- H -->\n     <g transform=\"translate(83.036408 47.147987)scale(0.13 -0.13)\">\n      <defs>\n       <path id=\"DejaVuSans-48\" d=\"M 628 4666 \nL 1259 4666 \nL 1259 2753 \nL 3553 2753 \nL 3553 4666 \nL 4184 4666 \nL 4184 0 \nL 3553 0 \nL 3553 2222 \nL 1259 2222 \nL 1259 0 \nL 628 0 \nL 628 4666 \nz\n\" transform=\"scale(0.015625)\"/>\n      </defs>\n      <use xlink:href=\"#DejaVuSans-48\"/>\n     </g>\n    </g>\n   </g>\n   <g id=\"text_6\">\n    <g clip-path=\"url(#p45068e6ca8)\">\n     <!-- H -->\n     <g transform=\"translate(83.036408 92.598986)scale(0.13 -0.13)\">\n      <use xlink:href=\"#DejaVuSans-48\"/>\n     </g>\n    </g>\n   </g>\n   <g id=\"line2d_14\">\n    <path d=\"M 133.37561 49.469429 \nL 133.37561 37.65217 \n\" clip-path=\"url(#p45068e6ca8)\" style=\"fill: none; stroke: #ffffff; stroke-width: 2; stroke-linecap: square\"/>\n   </g>\n   <g id=\"line2d_15\">\n    <path d=\"M 127.46698 43.5608 \nL 139.28424 43.5608 \n\" clip-path=\"url(#p45068e6ca8)\" style=\"fill: none; stroke: #ffffff; stroke-width: 2; stroke-linecap: square\"/>\n   </g>\n   <g id=\"text_7\">\n    <g clip-path=\"url(#p45068e6ca8)\">\n     <!-- Z -->\n     <g transform=\"translate(174.37411 47.147987)scale(0.13 -0.13)\">\n      <defs>\n       <path id=\"DejaVuSans-5a\" d=\"M 359 4666 \nL 4025 4666 \nL 4025 4184 \nL 1075 531 \nL 4097 531 \nL 4097 0 \nL 288 0 \nL 288 481 \nL 3238 4134 \nL 359 4134 \nL 359 4666 \nz\n\" transform=\"scale(0.015625)\"/>\n      </defs>\n      <use xlink:href=\"#DejaVuSans-5a\"/>\n     </g>\n    </g>\n   </g>\n   <g id=\"line2d_16\">\n    <path d=\"M 224.277609 49.469429 \nL 224.277609 37.65217 \n\" clip-path=\"url(#p45068e6ca8)\" style=\"fill: none; stroke: #ffffff; stroke-width: 2; stroke-linecap: square\"/>\n   </g>\n   <g id=\"line2d_17\">\n    <path d=\"M 218.368979 43.5608 \nL 230.186239 43.5608 \n\" clip-path=\"url(#p45068e6ca8)\" style=\"fill: none; stroke: #ffffff; stroke-width: 2; stroke-linecap: square\"/>\n   </g>\n   <g id=\"text_8\">\n    <g clip-path=\"url(#p45068e6ca8)\">\n     <!-- 0 -->\n     <g transform=\"translate(281.091358 127.754823)scale(0.104 -0.104)\">\n      <use xlink:href=\"#DejaVuSans-30\"/>\n     </g>\n    </g>\n   </g>\n   <g id=\"text_9\">\n    <g clip-path=\"url(#p45068e6ca8)\">\n     <!-- 1 -->\n     <g transform=\"translate(326.542358 127.754823)scale(0.104 -0.104)\">\n      <use xlink:href=\"#DejaVuSans-31\"/>\n     </g>\n    </g>\n   </g>\n  </g>\n </g>\n <defs>\n  <clipPath id=\"p45068e6ca8\">\n   <rect x=\"7.2\" y=\"7.2\" width=\"337.977268\" height=\"154.533398\"/>\n  </clipPath>\n </defs>\n</svg>\n",
      "text/plain": [
       "<Figure size 447.652x204.68 with 1 Axes>"
      ]
     },
     "metadata": {},
     "output_type": "display_data"
    },
    {
     "data": {
      "text/latex": [
       "$$\\frac{1}{2} |00\\rangle- \\frac{1}{2} |01\\rangle- \\frac{1}{2} |10\\rangle+\\frac{1}{2} |11\\rangle$$"
      ],
      "text/plain": [
       "<IPython.core.display.Latex object>"
      ]
     },
     "metadata": {},
     "output_type": "display_data"
    },
    {
     "data": {
      "text/plain": [
       "{'11': 251, '10': 253, '00': 245, '01': 275}"
      ]
     },
     "execution_count": 62,
     "metadata": {},
     "output_type": "execute_result"
    }
   ],
   "source": [
    "qc = QuantumCircuit(2, 2)\n",
    "\n",
    "# Everything after the H gate will change the state vector, but not the\n",
    "# measurements.\n",
    "qc.h(0)          # q0 = H(q0)\n",
    "qc.h(1)          # q1 = H(q1)\n",
    "# This has no effect:\n",
    "qc.cx(1, 0)      # q0 = XOR(q1, q0)\n",
    "# But it has:\n",
    "qc.z(0)          # q0 = -|1> of q0 is |1>, |0> otherwise\n",
    "# Now we can perform cx:\n",
    "qc.cx(1, 0)      # q0 = XOR(q1, q0)\n",
    "\n",
    "# This calculates what the state vector of our qubits would be\n",
    "# after passing through the circuit 'qc'.\n",
    "# We can't use the Statevector after measuring.\n",
    "ket = Statevector(qc)\n",
    "\n",
    "qc.measure(0, 0) # b0 = q2\n",
    "qc.measure(1, 1) # b1 = q3\n",
    "display(qc.draw(output='mpl')) # Draw the cirtuit to an SVG.\n",
    "\n",
    "# The code below writes down the state vector.\n",
    "# Since it's the last line in the cell, the cell will display it as output\n",
    "display(ket.draw(output='latex')) # Use LaTeX to draw the ket.\n",
    "\n",
    "job = sim.run(qc)     # run the experiment\n",
    "result = job.result() # get the results\n",
    "result.get_counts()"
   ]
  },
  {
   "cell_type": "code",
   "execution_count": 63,
   "metadata": {},
   "outputs": [],
   "source": [
    "from qiskit import Aer\n",
    "backend = Aer.get_backend('aer_simulator')"
   ]
  },
  {
   "cell_type": "code",
   "execution_count": 64,
   "metadata": {},
   "outputs": [
    {
     "data": {
      "text/latex": [
       "$$ |00\\rangle$$"
      ],
      "text/plain": [
       "<IPython.core.display.Latex object>"
      ]
     },
     "metadata": {},
     "output_type": "display_data"
    },
    {
     "data": {
      "image/svg+xml": "<?xml version=\"1.0\" encoding=\"utf-8\" standalone=\"no\"?>\n<!DOCTYPE svg PUBLIC \"-//W3C//DTD SVG 1.1//EN\"\n  \"http://www.w3.org/Graphics/SVG/1.1/DTD/svg11.dtd\">\n<svg xmlns:xlink=\"http://www.w3.org/1999/xlink\" width=\"261.475269pt\" height=\"168.933398pt\" viewBox=\"0 0 261.475269 168.933398\" xmlns=\"http://www.w3.org/2000/svg\" version=\"1.1\">\n <metadata>\n  <rdf:RDF xmlns:dc=\"http://purl.org/dc/elements/1.1/\" xmlns:cc=\"http://creativecommons.org/ns#\" xmlns:rdf=\"http://www.w3.org/1999/02/22-rdf-syntax-ns#\">\n   <cc:Work>\n    <dc:type rdf:resource=\"http://purl.org/dc/dcmitype/StillImage\"/>\n    <dc:date>2022-08-08T23:30:58.739418</dc:date>\n    <dc:format>image/svg+xml</dc:format>\n    <dc:creator>\n     <cc:Agent>\n      <dc:title>Matplotlib v3.5.2, https://matplotlib.org/</dc:title>\n     </cc:Agent>\n    </dc:creator>\n   </cc:Work>\n  </rdf:RDF>\n </metadata>\n <defs>\n  <style type=\"text/css\">*{stroke-linejoin: round; stroke-linecap: butt}</style>\n </defs>\n <g id=\"figure_1\">\n  <g id=\"patch_1\">\n   <path d=\"M 0 168.933398 \nL 261.475269 168.933398 \nL 261.475269 0 \nL 0 0 \nz\n\" style=\"fill: #ffffff\"/>\n  </g>\n  <g id=\"axes_1\">\n   <g id=\"patch_2\">\n    <path d=\"M 172.91798 124.122696 \nL 184.73524 124.122696 \nL 178.82661 132.644758 \nz\n\" clip-path=\"url(#p5cb2d9edf3)\" style=\"fill: #778899\"/>\n   </g>\n   <g id=\"patch_3\">\n    <path d=\"M 218.368979 124.122696 \nL 230.186239 124.122696 \nL 224.277609 132.644758 \nz\n\" clip-path=\"url(#p5cb2d9edf3)\" style=\"fill: #778899\"/>\n   </g>\n   <g id=\"line2d_1\">\n    <path d=\"M 63.381071 43.5608 \nL 249.730169 43.5608 \n\" clip-path=\"url(#p5cb2d9edf3)\" style=\"fill: none; stroke: #000000; stroke-width: 2; stroke-linecap: square\"/>\n   </g>\n   <g id=\"line2d_2\">\n    <path d=\"M 63.381071 89.011799 \nL 249.730169 89.011799 \n\" clip-path=\"url(#p5cb2d9edf3)\" style=\"fill: none; stroke: #000000; stroke-width: 2; stroke-linecap: square\"/>\n   </g>\n   <g id=\"line2d_3\">\n    <path d=\"M 63.381071 132.985641 \nL 249.730169 132.985641 \n\" clip-path=\"url(#p5cb2d9edf3)\" style=\"fill: none; stroke: #778899; stroke-width: 2; stroke-linecap: square\"/>\n   </g>\n   <g id=\"line2d_4\">\n    <path d=\"M 63.381071 135.939956 \nL 249.730169 135.939956 \n\" clip-path=\"url(#p5cb2d9edf3)\" style=\"fill: none; stroke: #778899; stroke-width: 2; stroke-linecap: square\"/>\n   </g>\n   <g id=\"line2d_5\">\n    <path d=\"M 72.471271 139.007898 \nL 77.016371 129.917698 \n\" clip-path=\"url(#p5cb2d9edf3)\" style=\"fill: none; stroke: #778899; stroke-width: 1.5; stroke-linecap: square\"/>\n   </g>\n   <g id=\"line2d_6\">\n    <path d=\"M 87.924611 89.011799 \nL 87.924611 43.5608 \n\" clip-path=\"url(#p5cb2d9edf3)\" style=\"fill: none; stroke: #6fa4ff; stroke-width: 2; stroke-linecap: square\"/>\n   </g>\n   <g id=\"line2d_7\">\n    <path d=\"M 180.303767 43.5608 \nL 180.303767 124.122696 \n\" clip-path=\"url(#p5cb2d9edf3)\" style=\"fill: none; stroke: #778899; stroke-width: 2; stroke-linecap: square\"/>\n   </g>\n   <g id=\"line2d_8\">\n    <path d=\"M 177.349452 43.5608 \nL 177.349452 124.122696 \n\" clip-path=\"url(#p5cb2d9edf3)\" style=\"fill: none; stroke: #778899; stroke-width: 2; stroke-linecap: square\"/>\n   </g>\n   <g id=\"line2d_9\">\n    <path d=\"M 225.754767 89.011799 \nL 225.754767 124.122696 \n\" clip-path=\"url(#p5cb2d9edf3)\" style=\"fill: none; stroke: #778899; stroke-width: 2; stroke-linecap: square\"/>\n   </g>\n   <g id=\"line2d_10\">\n    <path d=\"M 222.800452 89.011799 \nL 222.800452 124.122696 \n\" clip-path=\"url(#p5cb2d9edf3)\" style=\"fill: none; stroke: #778899; stroke-width: 2; stroke-linecap: square\"/>\n   </g>\n   <g id=\"patch_4\">\n    <path d=\"M 87.924611 93.443271 \nC 89.099851 93.443271 90.227115 92.976343 91.058135 92.145323 \nC 91.889156 91.314303 92.356083 90.187039 92.356083 89.011799 \nC 92.356083 87.836559 91.889156 86.709295 91.058135 85.878275 \nC 90.227115 85.047254 89.099851 84.580326 87.924611 84.580326 \nC 86.749371 84.580326 85.622107 85.047254 84.791087 85.878275 \nC 83.960066 86.709295 83.493139 87.836559 83.493139 89.011799 \nC 83.493139 90.187039 83.960066 91.314303 84.791087 92.145323 \nC 85.622107 92.976343 86.749371 93.443271 87.924611 93.443271 \nz\n\" clip-path=\"url(#p5cb2d9edf3)\" style=\"fill: #6fa4ff; stroke: #6fa4ff; stroke-width: 1.5; stroke-linejoin: miter\"/>\n   </g>\n   <g id=\"patch_5\">\n    <path d=\"M 87.924611 53.900902 \nC 90.666838 53.900902 93.29712 52.811403 95.236168 50.872356 \nC 97.175215 48.933309 98.264713 46.303027 98.264713 43.5608 \nC 98.264713 40.818572 97.175215 38.18829 95.236168 36.249243 \nC 93.29712 34.310196 90.666838 33.220697 87.924611 33.220697 \nC 85.182384 33.220697 82.552102 34.310196 80.613055 36.249243 \nC 78.674007 38.18829 77.584509 40.818572 77.584509 43.5608 \nC 77.584509 46.303027 78.674007 48.933309 80.613055 50.872356 \nC 82.552102 52.811403 85.182384 53.900902 87.924611 53.900902 \nz\n\" clip-path=\"url(#p5cb2d9edf3)\" style=\"fill: #6fa4ff; stroke: #6fa4ff; stroke-width: 2; stroke-linejoin: miter\"/>\n   </g>\n   <g id=\"patch_6\">\n    <path d=\"M 118.604036 103.783374 \nL 148.147185 103.783374 \nL 148.147185 74.240224 \nL 118.604036 74.240224 \nz\n\" clip-path=\"url(#p5cb2d9edf3)\" style=\"fill: #6fa4ff; stroke: #6fa4ff; stroke-width: 1.5; stroke-linejoin: miter\"/>\n   </g>\n   <g id=\"patch_7\">\n    <path d=\"M 164.055035 58.332374 \nL 193.598185 58.332374 \nL 193.598185 28.789225 \nL 164.055035 28.789225 \nz\n\" clip-path=\"url(#p5cb2d9edf3)\" style=\"stroke: #000000; stroke-width: 1.5; stroke-linejoin: miter\"/>\n   </g>\n   <g id=\"patch_8\">\n    <path d=\"M 189.166712 47.992272 \nC 189.166712 45.250958 188.076568 42.619117 186.138166 40.680715 \nC 184.199765 38.742314 181.567924 37.65217 178.82661 37.65217 \nC 176.085296 37.65217 173.453455 38.742314 171.515053 40.680715 \nC 169.576652 42.619117 168.486507 45.250958 168.486507 47.992272 \n\" clip-path=\"url(#p5cb2d9edf3)\" style=\"fill: none; stroke: #ffffff; stroke-width: 2; stroke-linejoin: miter\"/>\n   </g>\n   <g id=\"line2d_11\">\n    <path d=\"M 178.82661 47.992272 \nL 189.166712 37.65217 \n\" clip-path=\"url(#p5cb2d9edf3)\" style=\"fill: none; stroke: #ffffff; stroke-width: 2; stroke-linecap: square\"/>\n   </g>\n   <g id=\"patch_9\">\n    <path d=\"M 209.506034 103.783374 \nL 239.049184 103.783374 \nL 239.049184 74.240224 \nL 209.506034 74.240224 \nz\n\" clip-path=\"url(#p5cb2d9edf3)\" style=\"stroke: #000000; stroke-width: 1.5; stroke-linejoin: miter\"/>\n   </g>\n   <g id=\"patch_10\">\n    <path d=\"M 234.617712 93.443271 \nC 234.617712 90.701957 233.527567 88.070117 231.589166 86.131715 \nC 229.650764 84.193313 227.018923 83.103169 224.277609 83.103169 \nC 221.536295 83.103169 218.904454 84.193313 216.966053 86.131715 \nC 215.027651 88.070117 213.937507 90.701957 213.937507 93.443271 \n\" clip-path=\"url(#p5cb2d9edf3)\" style=\"fill: none; stroke: #ffffff; stroke-width: 2; stroke-linejoin: miter\"/>\n   </g>\n   <g id=\"line2d_12\">\n    <path d=\"M 224.277609 93.443271 \nL 234.617712 83.103169 \n\" clip-path=\"url(#p5cb2d9edf3)\" style=\"fill: none; stroke: #ffffff; stroke-width: 2; stroke-linecap: square\"/>\n   </g>\n   <g id=\"text_1\">\n    <g clip-path=\"url(#p5cb2d9edf3)\">\n     <!-- ${q}_{0}$ -->\n     <g transform=\"translate(36.253371 48.011776)scale(0.1625 -0.1625)\">\n      <defs>\n       <path id=\"DejaVuSans-Oblique-71\" d=\"M 2669 525 \nQ 2438 222 2123 65 \nQ 1809 -91 1428 -91 \nQ 897 -91 595 267 \nQ 294 625 294 1253 \nQ 294 1759 480 2231 \nQ 666 2703 1013 3078 \nQ 1238 3322 1530 3453 \nQ 1822 3584 2144 3584 \nQ 2531 3584 2781 3431 \nQ 3031 3278 3144 2969 \nL 3244 3494 \nL 3822 3494 \nL 2888 -1319 \nL 2309 -1319 \nL 2669 525 \nz\nM 891 1338 \nQ 891 875 1084 633 \nQ 1278 391 1644 391 \nQ 2188 391 2572 911 \nQ 2956 1431 2956 2175 \nQ 2956 2625 2757 2864 \nQ 2559 3103 2188 3103 \nQ 1916 3103 1684 2976 \nQ 1453 2850 1281 2606 \nQ 1100 2350 995 2006 \nQ 891 1663 891 1338 \nz\n\" transform=\"scale(0.015625)\"/>\n       <path id=\"DejaVuSans-30\" d=\"M 2034 4250 \nQ 1547 4250 1301 3770 \nQ 1056 3291 1056 2328 \nQ 1056 1369 1301 889 \nQ 1547 409 2034 409 \nQ 2525 409 2770 889 \nQ 3016 1369 3016 2328 \nQ 3016 3291 2770 3770 \nQ 2525 4250 2034 4250 \nz\nM 2034 4750 \nQ 2819 4750 3233 4129 \nQ 3647 3509 3647 2328 \nQ 3647 1150 3233 529 \nQ 2819 -91 2034 -91 \nQ 1250 -91 836 529 \nQ 422 1150 422 2328 \nQ 422 3509 836 4129 \nQ 1250 4750 2034 4750 \nz\n\" transform=\"scale(0.015625)\"/>\n      </defs>\n      <use xlink:href=\"#DejaVuSans-Oblique-71\"/>\n      <use xlink:href=\"#DejaVuSans-30\" transform=\"translate(63.476562 -16.40625)scale(0.7)\"/>\n     </g>\n    </g>\n   </g>\n   <g id=\"text_2\">\n    <g clip-path=\"url(#p5cb2d9edf3)\">\n     <!-- ${q}_{1}$ -->\n     <g transform=\"translate(36.253371 93.462775)scale(0.1625 -0.1625)\">\n      <defs>\n       <path id=\"DejaVuSans-31\" d=\"M 794 531 \nL 1825 531 \nL 1825 4091 \nL 703 3866 \nL 703 4441 \nL 1819 4666 \nL 2450 4666 \nL 2450 531 \nL 3481 531 \nL 3481 0 \nL 794 0 \nL 794 531 \nz\n\" transform=\"scale(0.015625)\"/>\n      </defs>\n      <use xlink:href=\"#DejaVuSans-Oblique-71\"/>\n      <use xlink:href=\"#DejaVuSans-31\" transform=\"translate(63.476562 -16.40625)scale(0.7)\"/>\n     </g>\n    </g>\n   </g>\n   <g id=\"text_3\">\n    <g clip-path=\"url(#p5cb2d9edf3)\">\n     <!-- 2 -->\n     <g transform=\"translate(67.926171 127.754823)scale(0.104 -0.104)\">\n      <defs>\n       <path id=\"DejaVuSans-32\" d=\"M 1228 531 \nL 3431 531 \nL 3431 0 \nL 469 0 \nL 469 531 \nQ 828 903 1448 1529 \nQ 2069 2156 2228 2338 \nQ 2531 2678 2651 2914 \nQ 2772 3150 2772 3378 \nQ 2772 3750 2511 3984 \nQ 2250 4219 1831 4219 \nQ 1534 4219 1204 4116 \nQ 875 4013 500 3803 \nL 500 4441 \nQ 881 4594 1212 4672 \nQ 1544 4750 1819 4750 \nQ 2544 4750 2975 4387 \nQ 3406 4025 3406 3419 \nQ 3406 3131 3298 2873 \nQ 3191 2616 2906 2266 \nQ 2828 2175 2409 1742 \nQ 1991 1309 1228 531 \nz\n\" transform=\"scale(0.015625)\"/>\n      </defs>\n      <use xlink:href=\"#DejaVuSans-32\"/>\n     </g>\n    </g>\n   </g>\n   <g id=\"text_4\">\n    <g clip-path=\"url(#p5cb2d9edf3)\">\n     <!-- c -->\n     <g transform=\"translate(45.355911 138.946783)scale(0.1625 -0.1625)\">\n      <defs>\n       <path id=\"DejaVuSans-63\" d=\"M 3122 3366 \nL 3122 2828 \nQ 2878 2963 2633 3030 \nQ 2388 3097 2138 3097 \nQ 1578 3097 1268 2742 \nQ 959 2388 959 1747 \nQ 959 1106 1268 751 \nQ 1578 397 2138 397 \nQ 2388 397 2633 464 \nQ 2878 531 3122 666 \nL 3122 134 \nQ 2881 22 2623 -34 \nQ 2366 -91 2075 -91 \nQ 1284 -91 818 406 \nQ 353 903 353 1747 \nQ 353 2603 823 3093 \nQ 1294 3584 2113 3584 \nQ 2378 3584 2631 3529 \nQ 2884 3475 3122 3366 \nz\n\" transform=\"scale(0.015625)\"/>\n      </defs>\n      <use xlink:href=\"#DejaVuSans-63\"/>\n     </g>\n    </g>\n   </g>\n   <g id=\"line2d_13\">\n    <path d=\"M 87.924611 49.469429 \nL 87.924611 37.65217 \n\" clip-path=\"url(#p5cb2d9edf3)\" style=\"fill: none; stroke: #ffffff; stroke-width: 2; stroke-linecap: square\"/>\n   </g>\n   <g id=\"line2d_14\">\n    <path d=\"M 82.015981 43.5608 \nL 93.833241 43.5608 \n\" clip-path=\"url(#p5cb2d9edf3)\" style=\"fill: none; stroke: #ffffff; stroke-width: 2; stroke-linecap: square\"/>\n   </g>\n   <g id=\"text_5\">\n    <g clip-path=\"url(#p5cb2d9edf3)\">\n     <!-- H -->\n     <g transform=\"translate(128.487407 92.598986)scale(0.13 -0.13)\">\n      <defs>\n       <path id=\"DejaVuSans-48\" d=\"M 628 4666 \nL 1259 4666 \nL 1259 2753 \nL 3553 2753 \nL 3553 4666 \nL 4184 4666 \nL 4184 0 \nL 3553 0 \nL 3553 2222 \nL 1259 2222 \nL 1259 0 \nL 628 0 \nL 628 4666 \nz\n\" transform=\"scale(0.015625)\"/>\n      </defs>\n      <use xlink:href=\"#DejaVuSans-48\"/>\n     </g>\n    </g>\n   </g>\n   <g id=\"text_6\">\n    <g clip-path=\"url(#p5cb2d9edf3)\">\n     <!-- 0 -->\n     <g transform=\"translate(190.18936 127.754823)scale(0.104 -0.104)\">\n      <use xlink:href=\"#DejaVuSans-30\"/>\n     </g>\n    </g>\n   </g>\n   <g id=\"text_7\">\n    <g clip-path=\"url(#p5cb2d9edf3)\">\n     <!-- 1 -->\n     <g transform=\"translate(235.640359 127.754823)scale(0.104 -0.104)\">\n      <use xlink:href=\"#DejaVuSans-31\"/>\n     </g>\n    </g>\n   </g>\n  </g>\n </g>\n <defs>\n  <clipPath id=\"p5cb2d9edf3\">\n   <rect x=\"7.2\" y=\"7.2\" width=\"247.075269\" height=\"154.533398\"/>\n  </clipPath>\n </defs>\n</svg>\n",
      "text/plain": [
       "<Figure size 327.252x204.68 with 1 Axes>"
      ]
     },
     "metadata": {},
     "output_type": "display_data"
    },
    {
     "data": {
      "text/plain": [
       "{'00': 1024}"
      ]
     },
     "execution_count": 64,
     "metadata": {},
     "output_type": "execute_result"
    }
   ],
   "source": [
    "# Alice and Bob, but with quantum mechanics.\n",
    "\n",
    "# The message\n",
    "MESSAGE = '00'\n",
    "\n",
    "# Alice encodes the message\n",
    "qc_alice = QuantumCircuit(2, 2)\n",
    "if MESSAGE[-1] == '1':\n",
    "  qc_alice.x(0)\n",
    "if MESSAGE[-2] == '1':\n",
    "  qc_alice.x(1)\n",
    "\n",
    "ket = Statevector(qc_alice)\n",
    "display(ket.draw(output='latex'))\n",
    "\n",
    "# then she creates entangled states\n",
    "qc_alice.h(1)\n",
    "qc_alice.cx(1,0)\n",
    "\n",
    "qc_bob = QuantumCircuit(2, 2)\n",
    "# Bob disentangles\n",
    "qc_bob.cx(1,0)\n",
    "qc_bob.h(1)\n",
    "# Then measures\n",
    "qc_bob.measure([0, 1], [0, 1])\n",
    "\n",
    "display(qc_bob.draw(output='mpl'))\n",
    "\n",
    "backend.run(qc_alice.compose(qc_bob)).result().get_counts()"
   ]
  },
  {
   "cell_type": "code",
   "execution_count": 65,
   "metadata": {},
   "outputs": [
    {
     "data": {
      "text/latex": [
       "$$\\frac{\\sqrt{2}}{2} |01\\rangle- \\frac{\\sqrt{2}}{2} |10\\rangle$$"
      ],
      "text/plain": [
       "<IPython.core.display.Latex object>"
      ]
     },
     "metadata": {},
     "output_type": "display_data"
    },
    {
     "data": {
      "text/plain": [
       "{'11': 1024}"
      ]
     },
     "execution_count": 65,
     "metadata": {},
     "output_type": "execute_result"
    }
   ],
   "source": [
    "MESSAGE = '11'\n",
    "\n",
    "qc_alice = QuantumCircuit(2, 2)\n",
    "\n",
    "qc_alice.h(1)\n",
    "qc_alice.cx(1, 0)\n",
    "\n",
    "# Note that this part has changed to take advantage of the entangled state.\n",
    "if MESSAGE[-1] == '1':\n",
    "  qc_alice.x(1) # Before: qc_alice.x(0)\n",
    "if MESSAGE[-2] == '1':\n",
    "  qc_alice.z(1) # Before: qc_alice.x(1)\n",
    "\n",
    "# As we are storing the message only in the qubit q1, Alice could have\n",
    "# sended the qubit q0 as soon as she had the entangled pair, even\n",
    "# before she knew the message!\n",
    "\n",
    "ket = Statevector(qc_alice)\n",
    "display(ket.draw(output='latex'))\n",
    "\n",
    "# Since Bob is receiving the same states as before its circuit\n",
    "# doesn't need to change.\n",
    "\n",
    "backend.run(qc_alice.compose(qc_bob)).result().get_counts()"
   ]
  },
  {
   "cell_type": "code",
   "execution_count": 66,
   "metadata": {},
   "outputs": [
    {
     "data": {
      "image/svg+xml": "<?xml version=\"1.0\" encoding=\"utf-8\" standalone=\"no\"?>\n<!DOCTYPE svg PUBLIC \"-//W3C//DTD SVG 1.1//EN\"\n  \"http://www.w3.org/Graphics/SVG/1.1/DTD/svg11.dtd\">\n<svg xmlns:xlink=\"http://www.w3.org/1999/xlink\" width=\"534.181265pt\" height=\"168.933398pt\" viewBox=\"0 0 534.181265 168.933398\" xmlns=\"http://www.w3.org/2000/svg\" version=\"1.1\">\n <metadata>\n  <rdf:RDF xmlns:dc=\"http://purl.org/dc/elements/1.1/\" xmlns:cc=\"http://creativecommons.org/ns#\" xmlns:rdf=\"http://www.w3.org/1999/02/22-rdf-syntax-ns#\">\n   <cc:Work>\n    <dc:type rdf:resource=\"http://purl.org/dc/dcmitype/StillImage\"/>\n    <dc:date>2022-08-08T23:30:59.089920</dc:date>\n    <dc:format>image/svg+xml</dc:format>\n    <dc:creator>\n     <cc:Agent>\n      <dc:title>Matplotlib v3.5.2, https://matplotlib.org/</dc:title>\n     </cc:Agent>\n    </dc:creator>\n   </cc:Work>\n  </rdf:RDF>\n </metadata>\n <defs>\n  <style type=\"text/css\">*{stroke-linejoin: round; stroke-linecap: butt}</style>\n </defs>\n <g id=\"figure_1\">\n  <g id=\"patch_1\">\n   <path d=\"M 0 168.933398 \nL 534.181265 168.933398 \nL 534.181265 0 \nL 0 0 \nz\n\" style=\"fill: #ffffff\"/>\n  </g>\n  <g id=\"axes_1\">\n   <g id=\"patch_2\">\n    <path d=\"M 400.172977 124.122696 \nL 411.990237 124.122696 \nL 406.081607 132.644758 \nz\n\" clip-path=\"url(#pb18a712652)\" style=\"fill: #778899\"/>\n   </g>\n   <g id=\"patch_3\">\n    <path d=\"M 445.623976 124.122696 \nL 457.441236 124.122696 \nL 451.532606 132.644758 \nz\n\" clip-path=\"url(#pb18a712652)\" style=\"fill: #778899\"/>\n   </g>\n   <g id=\"line2d_1\">\n    <path d=\"M 63.381071 43.5608 \nL 522.436165 43.5608 \n\" clip-path=\"url(#pb18a712652)\" style=\"fill: none; stroke: #000000; stroke-width: 2; stroke-linecap: square\"/>\n   </g>\n   <g id=\"line2d_2\">\n    <path d=\"M 63.381071 89.011799 \nL 522.436165 89.011799 \n\" clip-path=\"url(#pb18a712652)\" style=\"fill: none; stroke: #000000; stroke-width: 2; stroke-linecap: square\"/>\n   </g>\n   <g id=\"line2d_3\">\n    <path d=\"M 63.381071 132.985641 \nL 522.436165 132.985641 \n\" clip-path=\"url(#pb18a712652)\" style=\"fill: none; stroke: #778899; stroke-width: 2; stroke-linecap: square\"/>\n   </g>\n   <g id=\"line2d_4\">\n    <path d=\"M 63.381071 135.939956 \nL 522.436165 135.939956 \n\" clip-path=\"url(#pb18a712652)\" style=\"fill: none; stroke: #778899; stroke-width: 2; stroke-linecap: square\"/>\n   </g>\n   <g id=\"line2d_5\">\n    <path d=\"M 72.471271 139.007898 \nL 77.016371 129.917698 \n\" clip-path=\"url(#pb18a712652)\" style=\"fill: none; stroke: #778899; stroke-width: 1.5; stroke-linecap: square\"/>\n   </g>\n   <g id=\"line2d_6\">\n    <path d=\"M 133.37561 89.011799 \nL 133.37561 43.5608 \n\" clip-path=\"url(#pb18a712652)\" style=\"fill: none; stroke: #6fa4ff; stroke-width: 2; stroke-linecap: square\"/>\n   </g>\n   <g id=\"patch_4\">\n    <path d=\"M 169.963665 66.286299 \nL 187.689555 66.286299 \nL 187.689555 20.8353 \nL 169.963665 20.8353 \nz\n\" clip-path=\"url(#pb18a712652)\" style=\"fill: #bdbdbd; opacity: 0.6\"/>\n   </g>\n   <g id=\"patch_5\">\n    <path d=\"M 169.963665 111.737299 \nL 187.689555 111.737299 \nL 187.689555 66.286299 \nL 169.963665 66.286299 \nz\n\" clip-path=\"url(#pb18a712652)\" style=\"fill: #bdbdbd; opacity: 0.6\"/>\n   </g>\n   <g id=\"patch_6\">\n    <path d=\"M 260.865664 66.286299 \nL 278.591553 66.286299 \nL 278.591553 20.8353 \nL 260.865664 20.8353 \nz\n\" clip-path=\"url(#pb18a712652)\" style=\"fill: #bdbdbd; opacity: 0.6\"/>\n   </g>\n   <g id=\"patch_7\">\n    <path d=\"M 260.865664 111.737299 \nL 278.591553 111.737299 \nL 278.591553 66.286299 \nL 260.865664 66.286299 \nz\n\" clip-path=\"url(#pb18a712652)\" style=\"fill: #bdbdbd; opacity: 0.6\"/>\n   </g>\n   <g id=\"line2d_7\">\n    <path d=\"M 315.179608 89.011799 \nL 315.179608 43.5608 \n\" clip-path=\"url(#pb18a712652)\" style=\"fill: none; stroke: #6fa4ff; stroke-width: 2; stroke-linecap: square\"/>\n   </g>\n   <g id=\"line2d_8\">\n    <path d=\"M 407.558764 43.5608 \nL 407.558764 124.122696 \n\" clip-path=\"url(#pb18a712652)\" style=\"fill: none; stroke: #778899; stroke-width: 2; stroke-linecap: square\"/>\n   </g>\n   <g id=\"line2d_9\">\n    <path d=\"M 404.604449 43.5608 \nL 404.604449 124.122696 \n\" clip-path=\"url(#pb18a712652)\" style=\"fill: none; stroke: #778899; stroke-width: 2; stroke-linecap: square\"/>\n   </g>\n   <g id=\"line2d_10\">\n    <path d=\"M 453.009764 89.011799 \nL 453.009764 124.122696 \n\" clip-path=\"url(#pb18a712652)\" style=\"fill: none; stroke: #778899; stroke-width: 2; stroke-linecap: square\"/>\n   </g>\n   <g id=\"line2d_11\">\n    <path d=\"M 450.055449 89.011799 \nL 450.055449 124.122696 \n\" clip-path=\"url(#pb18a712652)\" style=\"fill: none; stroke: #778899; stroke-width: 2; stroke-linecap: square\"/>\n   </g>\n   <g id=\"patch_8\">\n    <path d=\"M 488.120661 66.286299 \nL 505.84655 66.286299 \nL 505.84655 20.8353 \nL 488.120661 20.8353 \nz\n\" clip-path=\"url(#pb18a712652)\" style=\"fill: #bdbdbd; opacity: 0.6\"/>\n   </g>\n   <g id=\"patch_9\">\n    <path d=\"M 488.120661 111.737299 \nL 505.84655 111.737299 \nL 505.84655 66.286299 \nL 488.120661 66.286299 \nz\n\" clip-path=\"url(#pb18a712652)\" style=\"fill: #bdbdbd; opacity: 0.6\"/>\n   </g>\n   <g id=\"patch_10\">\n    <path d=\"M 73.153036 103.783374 \nL 102.696186 103.783374 \nL 102.696186 74.240224 \nL 73.153036 74.240224 \nz\n\" clip-path=\"url(#pb18a712652)\" style=\"fill: #6fa4ff; stroke: #6fa4ff; stroke-width: 1.5; stroke-linejoin: miter\"/>\n   </g>\n   <g id=\"patch_11\">\n    <path d=\"M 133.37561 93.443271 \nC 134.550851 93.443271 135.678114 92.976343 136.509135 92.145323 \nC 137.340155 91.314303 137.807083 90.187039 137.807083 89.011799 \nC 137.807083 87.836559 137.340155 86.709295 136.509135 85.878275 \nC 135.678114 85.047254 134.550851 84.580326 133.37561 84.580326 \nC 132.20037 84.580326 131.073107 85.047254 130.242086 85.878275 \nC 129.411066 86.709295 128.944138 87.836559 128.944138 89.011799 \nC 128.944138 90.187039 129.411066 91.314303 130.242086 92.145323 \nC 131.073107 92.976343 132.20037 93.443271 133.37561 93.443271 \nz\n\" clip-path=\"url(#pb18a712652)\" style=\"fill: #6fa4ff; stroke: #6fa4ff; stroke-width: 1.5; stroke-linejoin: miter\"/>\n   </g>\n   <g id=\"patch_12\">\n    <path d=\"M 133.37561 53.900902 \nC 136.117838 53.900902 138.748119 52.811403 140.687167 50.872356 \nC 142.626214 48.933309 143.715713 46.303027 143.715713 43.5608 \nC 143.715713 40.818572 142.626214 38.18829 140.687167 36.249243 \nC 138.748119 34.310196 136.117838 33.220697 133.37561 33.220697 \nC 130.633383 33.220697 128.003101 34.310196 126.064054 36.249243 \nC 124.125006 38.18829 123.035508 40.818572 123.035508 43.5608 \nC 123.035508 46.303027 124.125006 48.933309 126.064054 50.872356 \nC 128.003101 52.811403 130.633383 53.900902 133.37561 53.900902 \nz\n\" clip-path=\"url(#pb18a712652)\" style=\"fill: #6fa4ff; stroke: #6fa4ff; stroke-width: 2; stroke-linejoin: miter\"/>\n   </g>\n   <g id=\"patch_13\">\n    <path d=\"M 209.506034 103.783374 \nL 239.049184 103.783374 \nL 239.049184 74.240224 \nL 209.506034 74.240224 \nz\n\" clip-path=\"url(#pb18a712652)\" style=\"fill: #05bab6; stroke: #05bab6; stroke-width: 1.5; stroke-linejoin: miter\"/>\n   </g>\n   <g id=\"patch_14\">\n    <path d=\"M 315.179608 93.443271 \nC 316.354848 93.443271 317.482112 92.976343 318.313132 92.145323 \nC 319.144153 91.314303 319.61108 90.187039 319.61108 89.011799 \nC 319.61108 87.836559 319.144153 86.709295 318.313132 85.878275 \nC 317.482112 85.047254 316.354848 84.580326 315.179608 84.580326 \nC 314.004368 84.580326 312.877104 85.047254 312.046084 85.878275 \nC 311.215063 86.709295 310.748136 87.836559 310.748136 89.011799 \nC 310.748136 90.187039 311.215063 91.314303 312.046084 92.145323 \nC 312.877104 92.976343 314.004368 93.443271 315.179608 93.443271 \nz\n\" clip-path=\"url(#pb18a712652)\" style=\"fill: #6fa4ff; stroke: #6fa4ff; stroke-width: 1.5; stroke-linejoin: miter\"/>\n   </g>\n   <g id=\"patch_15\">\n    <path d=\"M 315.179608 53.900902 \nC 317.921835 53.900902 320.552117 52.811403 322.491164 50.872356 \nC 324.430212 48.933309 325.51971 46.303027 325.51971 43.5608 \nC 325.51971 40.818572 324.430212 38.18829 322.491164 36.249243 \nC 320.552117 34.310196 317.921835 33.220697 315.179608 33.220697 \nC 312.437381 33.220697 309.807099 34.310196 307.868051 36.249243 \nC 305.929004 38.18829 304.839506 40.818572 304.839506 43.5608 \nC 304.839506 46.303027 305.929004 48.933309 307.868051 50.872356 \nC 309.807099 52.811403 312.437381 53.900902 315.179608 53.900902 \nz\n\" clip-path=\"url(#pb18a712652)\" style=\"fill: #6fa4ff; stroke: #6fa4ff; stroke-width: 2; stroke-linejoin: miter\"/>\n   </g>\n   <g id=\"patch_16\">\n    <path d=\"M 345.859033 103.783374 \nL 375.402182 103.783374 \nL 375.402182 74.240224 \nL 345.859033 74.240224 \nz\n\" clip-path=\"url(#pb18a712652)\" style=\"fill: #6fa4ff; stroke: #6fa4ff; stroke-width: 1.5; stroke-linejoin: miter\"/>\n   </g>\n   <g id=\"patch_17\">\n    <path d=\"M 391.310032 58.332374 \nL 420.853182 58.332374 \nL 420.853182 28.789225 \nL 391.310032 28.789225 \nz\n\" clip-path=\"url(#pb18a712652)\" style=\"stroke: #000000; stroke-width: 1.5; stroke-linejoin: miter\"/>\n   </g>\n   <g id=\"patch_18\">\n    <path d=\"M 416.421709 47.992272 \nC 416.421709 45.250958 415.331565 42.619117 413.393163 40.680715 \nC 411.454762 38.742314 408.822921 37.65217 406.081607 37.65217 \nC 403.340293 37.65217 400.708452 38.742314 398.77005 40.680715 \nC 396.831649 42.619117 395.741504 45.250958 395.741504 47.992272 \n\" clip-path=\"url(#pb18a712652)\" style=\"fill: none; stroke: #ffffff; stroke-width: 2; stroke-linejoin: miter\"/>\n   </g>\n   <g id=\"line2d_12\">\n    <path d=\"M 406.081607 47.992272 \nL 416.421709 37.65217 \n\" clip-path=\"url(#pb18a712652)\" style=\"fill: none; stroke: #ffffff; stroke-width: 2; stroke-linecap: square\"/>\n   </g>\n   <g id=\"patch_19\">\n    <path d=\"M 436.761031 103.783374 \nL 466.304181 103.783374 \nL 466.304181 74.240224 \nL 436.761031 74.240224 \nz\n\" clip-path=\"url(#pb18a712652)\" style=\"stroke: #000000; stroke-width: 1.5; stroke-linejoin: miter\"/>\n   </g>\n   <g id=\"patch_20\">\n    <path d=\"M 461.872709 93.443271 \nC 461.872709 90.701957 460.782564 88.070117 458.844163 86.131715 \nC 456.905761 84.193313 454.27392 83.103169 451.532606 83.103169 \nC 448.791292 83.103169 446.159451 84.193313 444.22105 86.131715 \nC 442.282648 88.070117 441.192504 90.701957 441.192504 93.443271 \n\" clip-path=\"url(#pb18a712652)\" style=\"fill: none; stroke: #ffffff; stroke-width: 2; stroke-linejoin: miter\"/>\n   </g>\n   <g id=\"line2d_13\">\n    <path d=\"M 451.532606 93.443271 \nL 461.872709 83.103169 \n\" clip-path=\"url(#pb18a712652)\" style=\"fill: none; stroke: #ffffff; stroke-width: 2; stroke-linecap: square\"/>\n   </g>\n   <g id=\"text_1\">\n    <g clip-path=\"url(#pb18a712652)\">\n     <!-- ${q}_{0}$ -->\n     <g transform=\"translate(36.253371 48.011776)scale(0.1625 -0.1625)\">\n      <defs>\n       <path id=\"DejaVuSans-Oblique-71\" d=\"M 2669 525 \nQ 2438 222 2123 65 \nQ 1809 -91 1428 -91 \nQ 897 -91 595 267 \nQ 294 625 294 1253 \nQ 294 1759 480 2231 \nQ 666 2703 1013 3078 \nQ 1238 3322 1530 3453 \nQ 1822 3584 2144 3584 \nQ 2531 3584 2781 3431 \nQ 3031 3278 3144 2969 \nL 3244 3494 \nL 3822 3494 \nL 2888 -1319 \nL 2309 -1319 \nL 2669 525 \nz\nM 891 1338 \nQ 891 875 1084 633 \nQ 1278 391 1644 391 \nQ 2188 391 2572 911 \nQ 2956 1431 2956 2175 \nQ 2956 2625 2757 2864 \nQ 2559 3103 2188 3103 \nQ 1916 3103 1684 2976 \nQ 1453 2850 1281 2606 \nQ 1100 2350 995 2006 \nQ 891 1663 891 1338 \nz\n\" transform=\"scale(0.015625)\"/>\n       <path id=\"DejaVuSans-30\" d=\"M 2034 4250 \nQ 1547 4250 1301 3770 \nQ 1056 3291 1056 2328 \nQ 1056 1369 1301 889 \nQ 1547 409 2034 409 \nQ 2525 409 2770 889 \nQ 3016 1369 3016 2328 \nQ 3016 3291 2770 3770 \nQ 2525 4250 2034 4250 \nz\nM 2034 4750 \nQ 2819 4750 3233 4129 \nQ 3647 3509 3647 2328 \nQ 3647 1150 3233 529 \nQ 2819 -91 2034 -91 \nQ 1250 -91 836 529 \nQ 422 1150 422 2328 \nQ 422 3509 836 4129 \nQ 1250 4750 2034 4750 \nz\n\" transform=\"scale(0.015625)\"/>\n      </defs>\n      <use xlink:href=\"#DejaVuSans-Oblique-71\"/>\n      <use xlink:href=\"#DejaVuSans-30\" transform=\"translate(63.476562 -16.40625)scale(0.7)\"/>\n     </g>\n    </g>\n   </g>\n   <g id=\"text_2\">\n    <g clip-path=\"url(#pb18a712652)\">\n     <!-- ${q}_{1}$ -->\n     <g transform=\"translate(36.253371 93.462775)scale(0.1625 -0.1625)\">\n      <defs>\n       <path id=\"DejaVuSans-31\" d=\"M 794 531 \nL 1825 531 \nL 1825 4091 \nL 703 3866 \nL 703 4441 \nL 1819 4666 \nL 2450 4666 \nL 2450 531 \nL 3481 531 \nL 3481 0 \nL 794 0 \nL 794 531 \nz\n\" transform=\"scale(0.015625)\"/>\n      </defs>\n      <use xlink:href=\"#DejaVuSans-Oblique-71\"/>\n      <use xlink:href=\"#DejaVuSans-31\" transform=\"translate(63.476562 -16.40625)scale(0.7)\"/>\n     </g>\n    </g>\n   </g>\n   <g id=\"text_3\">\n    <g clip-path=\"url(#pb18a712652)\">\n     <!-- 2 -->\n     <g transform=\"translate(67.926171 127.754823)scale(0.104 -0.104)\">\n      <defs>\n       <path id=\"DejaVuSans-32\" d=\"M 1228 531 \nL 3431 531 \nL 3431 0 \nL 469 0 \nL 469 531 \nQ 828 903 1448 1529 \nQ 2069 2156 2228 2338 \nQ 2531 2678 2651 2914 \nQ 2772 3150 2772 3378 \nQ 2772 3750 2511 3984 \nQ 2250 4219 1831 4219 \nQ 1534 4219 1204 4116 \nQ 875 4013 500 3803 \nL 500 4441 \nQ 881 4594 1212 4672 \nQ 1544 4750 1819 4750 \nQ 2544 4750 2975 4387 \nQ 3406 4025 3406 3419 \nQ 3406 3131 3298 2873 \nQ 3191 2616 2906 2266 \nQ 2828 2175 2409 1742 \nQ 1991 1309 1228 531 \nz\n\" transform=\"scale(0.015625)\"/>\n      </defs>\n      <use xlink:href=\"#DejaVuSans-32\"/>\n     </g>\n    </g>\n   </g>\n   <g id=\"text_4\">\n    <g clip-path=\"url(#pb18a712652)\">\n     <!-- c -->\n     <g transform=\"translate(45.355911 138.946783)scale(0.1625 -0.1625)\">\n      <defs>\n       <path id=\"DejaVuSans-63\" d=\"M 3122 3366 \nL 3122 2828 \nQ 2878 2963 2633 3030 \nQ 2388 3097 2138 3097 \nQ 1578 3097 1268 2742 \nQ 959 2388 959 1747 \nQ 959 1106 1268 751 \nQ 1578 397 2138 397 \nQ 2388 397 2633 464 \nQ 2878 531 3122 666 \nL 3122 134 \nQ 2881 22 2623 -34 \nQ 2366 -91 2075 -91 \nQ 1284 -91 818 406 \nQ 353 903 353 1747 \nQ 353 2603 823 3093 \nQ 1294 3584 2113 3584 \nQ 2378 3584 2631 3529 \nQ 2884 3475 3122 3366 \nz\n\" transform=\"scale(0.015625)\"/>\n      </defs>\n      <use xlink:href=\"#DejaVuSans-63\"/>\n     </g>\n    </g>\n   </g>\n   <g id=\"text_5\">\n    <g clip-path=\"url(#pb18a712652)\">\n     <!-- H -->\n     <g transform=\"translate(83.036408 92.598986)scale(0.13 -0.13)\">\n      <defs>\n       <path id=\"DejaVuSans-48\" d=\"M 628 4666 \nL 1259 4666 \nL 1259 2753 \nL 3553 2753 \nL 3553 4666 \nL 4184 4666 \nL 4184 0 \nL 3553 0 \nL 3553 2222 \nL 1259 2222 \nL 1259 0 \nL 628 0 \nL 628 4666 \nz\n\" transform=\"scale(0.015625)\"/>\n      </defs>\n      <use xlink:href=\"#DejaVuSans-48\"/>\n     </g>\n    </g>\n   </g>\n   <g id=\"line2d_14\">\n    <path d=\"M 133.37561 49.469429 \nL 133.37561 37.65217 \n\" clip-path=\"url(#pb18a712652)\" style=\"fill: none; stroke: #ffffff; stroke-width: 2; stroke-linecap: square\"/>\n   </g>\n   <g id=\"line2d_15\">\n    <path d=\"M 127.46698 43.5608 \nL 139.28424 43.5608 \n\" clip-path=\"url(#pb18a712652)\" style=\"fill: none; stroke: #ffffff; stroke-width: 2; stroke-linecap: square\"/>\n   </g>\n   <g id=\"line2d_16\">\n    <path d=\"M 178.82661 20.8353 \nL 178.82661 66.286299 \n\" clip-path=\"url(#pb18a712652)\" style=\"fill: none; stroke-dasharray: 3.7,1.6; stroke-dashoffset: 0; stroke: #000000\"/>\n   </g>\n   <g id=\"line2d_17\">\n    <path d=\"M 178.82661 66.286299 \nL 178.82661 111.737299 \n\" clip-path=\"url(#pb18a712652)\" style=\"fill: none; stroke-dasharray: 3.7,1.6; stroke-dashoffset: 0; stroke: #000000\"/>\n   </g>\n   <g id=\"text_6\">\n    <g clip-path=\"url(#pb18a712652)\">\n     <!-- X -->\n     <g transform=\"translate(219.825109 92.598986)scale(0.13 -0.13)\">\n      <defs>\n       <path id=\"DejaVuSans-58\" d=\"M 403 4666 \nL 1081 4666 \nL 2241 2931 \nL 3406 4666 \nL 4084 4666 \nL 2584 2425 \nL 4184 0 \nL 3506 0 \nL 2194 1984 \nL 872 0 \nL 191 0 \nL 1856 2491 \nL 403 4666 \nz\n\" transform=\"scale(0.015625)\"/>\n      </defs>\n      <use xlink:href=\"#DejaVuSans-58\"/>\n     </g>\n    </g>\n   </g>\n   <g id=\"line2d_18\">\n    <path d=\"M 269.728609 20.8353 \nL 269.728609 66.286299 \n\" clip-path=\"url(#pb18a712652)\" style=\"fill: none; stroke-dasharray: 3.7,1.6; stroke-dashoffset: 0; stroke: #000000\"/>\n   </g>\n   <g id=\"line2d_19\">\n    <path d=\"M 269.728609 66.286299 \nL 269.728609 111.737299 \n\" clip-path=\"url(#pb18a712652)\" style=\"fill: none; stroke-dasharray: 3.7,1.6; stroke-dashoffset: 0; stroke: #000000\"/>\n   </g>\n   <g id=\"line2d_20\">\n    <path d=\"M 315.179608 49.469429 \nL 315.179608 37.65217 \n\" clip-path=\"url(#pb18a712652)\" style=\"fill: none; stroke: #ffffff; stroke-width: 2; stroke-linecap: square\"/>\n   </g>\n   <g id=\"line2d_21\">\n    <path d=\"M 309.270978 43.5608 \nL 321.088238 43.5608 \n\" clip-path=\"url(#pb18a712652)\" style=\"fill: none; stroke: #ffffff; stroke-width: 2; stroke-linecap: square\"/>\n   </g>\n   <g id=\"text_7\">\n    <g clip-path=\"url(#pb18a712652)\">\n     <!-- H -->\n     <g transform=\"translate(355.742404 92.598986)scale(0.13 -0.13)\">\n      <use xlink:href=\"#DejaVuSans-48\"/>\n     </g>\n    </g>\n   </g>\n   <g id=\"text_8\">\n    <g clip-path=\"url(#pb18a712652)\">\n     <!-- 0 -->\n     <g transform=\"translate(417.444357 127.754823)scale(0.104 -0.104)\">\n      <use xlink:href=\"#DejaVuSans-30\"/>\n     </g>\n    </g>\n   </g>\n   <g id=\"text_9\">\n    <g clip-path=\"url(#pb18a712652)\">\n     <!-- 1 -->\n     <g transform=\"translate(462.895356 127.754823)scale(0.104 -0.104)\">\n      <use xlink:href=\"#DejaVuSans-31\"/>\n     </g>\n    </g>\n   </g>\n   <g id=\"line2d_22\">\n    <path d=\"M 496.983606 20.8353 \nL 496.983606 66.286299 \n\" clip-path=\"url(#pb18a712652)\" style=\"fill: none; stroke-dasharray: 3.7,1.6; stroke-dashoffset: 0; stroke: #000000\"/>\n   </g>\n   <g id=\"line2d_23\">\n    <path d=\"M 496.983606 66.286299 \nL 496.983606 111.737299 \n\" clip-path=\"url(#pb18a712652)\" style=\"fill: none; stroke-dasharray: 3.7,1.6; stroke-dashoffset: 0; stroke: #000000\"/>\n   </g>\n  </g>\n </g>\n <defs>\n  <clipPath id=\"pb18a712652\">\n   <rect x=\"7.2\" y=\"7.2\" width=\"519.781265\" height=\"154.533398\"/>\n  </clipPath>\n </defs>\n</svg>\n",
      "text/plain": [
       "<Figure size 688.452x204.68 with 1 Axes>"
      ]
     },
     "metadata": {},
     "output_type": "display_data"
    },
    {
     "data": {
      "text/plain": [
       "{'01': 1024}"
      ]
     },
     "execution_count": 66,
     "metadata": {},
     "output_type": "execute_result"
    }
   ],
   "source": [
    "# The process above can be modified so Alice send only 1 qubit to Bob:\n",
    "# A third party can directly send one qubit to Bob, and then the\n",
    "# other to Alice\n",
    "# Alice can encode her two qubit message by manipulating just\n",
    "# this single qubit, and send only this one qubit to Bob\n",
    "\n",
    "# Charlie is the third party\n",
    "qc_charlie = QuantumCircuit(2,2)\n",
    "\n",
    "qc_charlie.h(1)\n",
    "qc_charlie.cx(1, 0)\n",
    "\n",
    "# Alice cuircuit\n",
    "MESSAGE = '01'\n",
    "\n",
    "qc_alice = QuantumCircuit(2, 2)\n",
    "\n",
    "# Alice can send 2 bits of information to Bob only using 1 qubit!\n",
    "\n",
    "if MESSAGE[-1] == '1':\n",
    "  qc_alice.x(1)\n",
    "if MESSAGE[-2] == '1':\n",
    "  qc_alice.z(1)\n",
    "\n",
    "# Improve circuit visualization\n",
    "qc_bob.barrier()\n",
    "qc_alice.barrier()\n",
    "qc_charlie.barrier()\n",
    "\n",
    "complete_qc = qc_charlie.compose(qc_alice.compose(qc_bob))\n",
    "display(complete_qc.draw(output='mpl'))\n",
    "backend.run(complete_qc).result().get_counts()"
   ]
  }
 ],
 "metadata": {
  "kernelspec": {
   "display_name": "Python 3.9.9 64-bit",
   "language": "python",
   "name": "python3"
  },
  "language_info": {
   "codemirror_mode": {
    "name": "ipython",
    "version": 3
   },
   "file_extension": ".py",
   "mimetype": "text/x-python",
   "name": "python",
   "nbconvert_exporter": "python",
   "pygments_lexer": "ipython3",
   "version": "3.9.9"
  },
  "orig_nbformat": 4,
  "vscode": {
   "interpreter": {
    "hash": "e7370f93d1d0cde622a1f8e1c04877d8463912d04d973331ad4851f04de6915a"
   }
  }
 },
 "nbformat": 4,
 "nbformat_minor": 2
}
